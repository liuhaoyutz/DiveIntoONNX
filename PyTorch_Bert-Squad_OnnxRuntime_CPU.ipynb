{
 "cells": [
  {
   "cell_type": "markdown",
   "metadata": {},
   "source": [
    "Copyright (c) Microsoft Corporation. All rights reserved.  \n",
    "Licensed under the MIT License."
   ]
  },
  {
   "cell_type": "markdown",
   "metadata": {},
   "source": [
    "# Inference PyTorch Bert Model with ONNX Runtime on CPU"
   ]
  },
  {
   "cell_type": "markdown",
   "metadata": {},
   "source": [
    "In this tutorial, you'll be introduced to how to load a Bert model from PyTorch, convert it to ONNX, and inference it for high performance using ONNX Runtime. In the following sections, we are going to use the Bert model trained with Stanford Question Answering Dataset (SQuAD) dataset as an example. Bert SQuAD model is used in question answering scenarios, where the answer to every question is a segment of text, or span, from the corresponding reading passage, or the question might be unanswerable.\n",
    "\n",
    "This notebook is for CPU inference. For GPU inferenece, please look at another notebook [Inference PyTorch Bert Model with ONNX Runtime on GPU](PyTorch_Bert-Squad_OnnxRuntime_GPU.ipynb)."
   ]
  },
  {
   "cell_type": "markdown",
   "metadata": {},
   "source": [
    "## 0. Prerequisites ##\n",
    "\n",
    "If you have Jupyter Notebook, you may directly run this notebook. We will use pip to install or upgrade [PyTorch](https://pytorch.org/), [OnnxRuntime](https://microsoft.github.io/onnxruntime/) and other required packages.\n",
    "\n",
    "Otherwise, you can setup a new environment. First, we install [AnaConda](https://www.anaconda.com/distribution/). Then open an AnaConda prompt window and run the following commands:\n",
    "\n",
    "```console\n",
    "conda create -n cpu_env python=3.10\n",
    "conda activate cpu_env\n",
    "pip install jupyterlab\n",
    "conda install ipykernel\n",
    "conda install -c conda-forge ipywidgets\n",
    "ipython kernel install --user --name cpu_env\n",
    "jupyter-lababook\n",
    "```\n",
    "The last command will launch Jupyter Notebook and we can open this notebook in browser to continue."
   ]
  },
  {
   "cell_type": "code",
   "execution_count": 1,
   "metadata": {},
   "outputs": [
    {
     "data": {
      "text/plain": [
       "'\\n# Please refer to https://pytorch.org to install CPU-only PyTorch\\nimport sys\\nif sys.platform in [\"darwin\", \"win32\"]:  # Mac or Windows\\n    !{sys.executable} -m pip install torch -q\\nelse:\\n    !{sys.executable} -m pip install install torch --index-url https://download.pytorch.org/whl/cpu -q\\n\\n# Install other packages used in this notebook.\\n!{sys.executable} -m pip install onnxruntime onnx transformers==4.18 psutil pandas py-cpuinfo py3nvml wget netron -q\\n'"
      ]
     },
     "execution_count": 1,
     "metadata": {},
     "output_type": "execute_result"
    }
   ],
   "source": [
    "\"\"\"\n",
    "# Please refer to https://pytorch.org to install CPU-only PyTorch\n",
    "import sys\n",
    "if sys.platform in [\"darwin\", \"win32\"]:  # Mac or Windows\n",
    "    !{sys.executable} -m pip install torch -q\n",
    "else:\n",
    "    !{sys.executable} -m pip install install torch --index-url https://download.pytorch.org/whl/cpu -q\n",
    "\n",
    "# Install other packages used in this notebook.\n",
    "!{sys.executable} -m pip install onnxruntime onnx transformers==4.18 psutil pandas py-cpuinfo py3nvml wget netron -q\n",
    "\"\"\""
   ]
  },
  {
   "cell_type": "markdown",
   "metadata": {},
   "source": [
    "## 1. Load Pretrained Bert model ##"
   ]
  },
  {
   "cell_type": "markdown",
   "metadata": {},
   "source": [
    "We begin by downloading the SQuAD data file and store them in the specified location."
   ]
  },
  {
   "cell_type": "code",
   "execution_count": 5,
   "metadata": {},
   "outputs": [
    {
     "data": {
      "text/plain": [
       "'\\nif not os.path.exists(predict_file):\\n    import wget\\n    print(\"Start downloading predict file.\")\\n    wget.download(predict_file_url, predict_file)\\n    print(\"Predict file downloaded.\")\\n'"
      ]
     },
     "execution_count": 5,
     "metadata": {},
     "output_type": "execute_result"
    }
   ],
   "source": [
    "import os\n",
    "\n",
    "cache_dir = os.path.join(\".\", \"cache_models\")\n",
    "if not os.path.exists(cache_dir):\n",
    "    os.makedirs(cache_dir)\n",
    "\n",
    "predict_file_url = \"https://rajpurkar.github.io/SQuAD-explorer/dataset/dev-v1.1.json\"\n",
    "predict_file = os.path.join(cache_dir, \"dev-v1.1.json\")\n",
    "\"\"\"\n",
    "if not os.path.exists(predict_file):\n",
    "    import wget\n",
    "    print(\"Start downloading predict file.\")\n",
    "    wget.download(predict_file_url, predict_file)\n",
    "    print(\"Predict file downloaded.\")\n",
    "\"\"\""
   ]
  },
  {
   "cell_type": "markdown",
   "metadata": {},
   "source": [
    "Specify some model configuration variables and constant."
   ]
  },
  {
   "cell_type": "code",
   "execution_count": 6,
   "metadata": {},
   "outputs": [],
   "source": [
    "# For fine tuned large model, the model name is \"bert-large-uncased-whole-word-masking-finetuned-squad\". Here we use bert-base for demo.\n",
    "model_name_or_path = \"bert-base-cased\"\n",
    "max_seq_length = 128\n",
    "doc_stride = 128\n",
    "max_query_length = 64\n",
    "\n",
    "# Enable overwrite to export onnx model and download latest script each time when running this notebook.\n",
    "enable_overwrite = True\n",
    "\n",
    "# Total samples to inference. It shall be large enough to get stable latency measurement.\n",
    "total_samples = 100"
   ]
  },
  {
   "cell_type": "markdown",
   "metadata": {},
   "source": [
    "Start to load model from pretrained. This step could take a few minutes. "
   ]
  },
  {
   "cell_type": "code",
   "execution_count": 24,
   "metadata": {},
   "outputs": [
    {
     "name": "stdout",
     "output_type": "stream",
     "text": [
      "env: HF_ENDPOINT=https://hf-mirror.com\n",
      "env: HF_HUB_ENABLE_HF_TRANSFER=1\n"
     ]
    },
    {
     "name": "stderr",
     "output_type": "stream",
     "text": [
      "Some weights of BertForQuestionAnswering were not initialized from the model checkpoint at bert-base-cased and are newly initialized: ['qa_outputs.bias', 'qa_outputs.weight']\n",
      "You should probably TRAIN this model on a down-stream task to be able to use it for predictions and inference.\n",
      "100%|██████████| 48/48 [00:02<00:00, 21.37it/s]\n",
      "convert squad examples to features: 100%|██████████| 100/100 [00:00<00:00, 172.91it/s]\n",
      "add example index and unique id: 100%|██████████| 100/100 [00:00<00:00, 252668.92it/s]\n"
     ]
    }
   ],
   "source": [
    "# The following code is adapted from HuggingFace transformers\n",
    "# https://github.com/huggingface/transformers/blob/master/examples/run_squad.py\n",
    "\n",
    "%env HF_ENDPOINT=https://hf-mirror.com\n",
    "%env HF_HUB_ENABLE_HF_TRANSFER=1\n",
    "\n",
    "from transformers import (BertConfig, BertForQuestionAnswering, BertTokenizer)\n",
    "\n",
    "# Load pretrained model and tokenizer\n",
    "config_class, model_class, tokenizer_class = (BertConfig, BertForQuestionAnswering, BertTokenizer)\n",
    "config = config_class.from_pretrained(model_name_or_path, cache_dir=cache_dir)\n",
    "tokenizer = tokenizer_class.from_pretrained(model_name_or_path, do_lower_case=True, cache_dir=cache_dir)\n",
    "model = model_class.from_pretrained(model_name_or_path,\n",
    "                                    from_tf=False,\n",
    "                                    config=config,\n",
    "                                    cache_dir=cache_dir)\n",
    "# load some examples\n",
    "from transformers.data.processors.squad import SquadV1Processor\n",
    "\n",
    "processor = SquadV1Processor()\n",
    "examples = processor.get_dev_examples(None, filename=predict_file)\n",
    "\n",
    "from transformers import squad_convert_examples_to_features\n",
    "features, dataset = squad_convert_examples_to_features(\n",
    "            examples=examples[:total_samples], # convert just enough examples for this notebook\n",
    "            tokenizer=tokenizer,\n",
    "            max_seq_length=max_seq_length,\n",
    "            doc_stride=doc_stride,\n",
    "            max_query_length=max_query_length,\n",
    "            is_training=False,\n",
    "            return_dataset='pt'\n",
    "        )"
   ]
  },
  {
   "cell_type": "markdown",
   "metadata": {},
   "source": [
    "## 2. Export the loaded model ##\n",
    "Once the model is loaded, we can export the loaded PyTorch model to ONNX."
   ]
  },
  {
   "cell_type": "code",
   "execution_count": 9,
   "metadata": {},
   "outputs": [
    {
     "name": "stdout",
     "output_type": "stream",
     "text": [
      "Model exported at  ./onnx_models/bert-base-cased-squad.onnx\n"
     ]
    }
   ],
   "source": [
    "output_dir = os.path.join(\".\", \"onnx_models\")\n",
    "if not os.path.exists(output_dir):\n",
    "    os.makedirs(output_dir)\n",
    "export_model_path = os.path.join(output_dir, 'bert-base-cased-squad.onnx')\n",
    "\n",
    "import torch\n",
    "device = torch.device(\"cpu\")\n",
    "\n",
    "# Get the first example data to run the model and export it to ONNX\n",
    "data = dataset[0]\n",
    "inputs = {\n",
    "    'input_ids':      data[0].to(device).reshape(1, max_seq_length),\n",
    "    'attention_mask': data[1].to(device).reshape(1, max_seq_length),\n",
    "    'token_type_ids': data[2].to(device).reshape(1, max_seq_length)\n",
    "}\n",
    "\n",
    "# Set model to inference mode, which is required before exporting the model because some operators behave differently in\n",
    "# inference and training mode.\n",
    "model.eval()\n",
    "model.to(device)\n",
    "\n",
    "if enable_overwrite or not os.path.exists(export_model_path):\n",
    "    with torch.no_grad():\n",
    "        symbolic_names = {0: 'batch_size', 1: 'max_seq_len'}\n",
    "        torch.onnx.export(model,                                            # model being run\n",
    "                          args=tuple(inputs.values()),                      # model input (or a tuple for multiple inputs)\n",
    "                          f=export_model_path,                              # where to save the model (can be a file or file-like object)\n",
    "                          opset_version=14,                                 # the ONNX version to export the model to\n",
    "                          do_constant_folding=True,                         # whether to execute constant folding for optimization\n",
    "                          input_names=['input_ids',                         # the model's input names\n",
    "                                       'input_mask',\n",
    "                                       'segment_ids'],\n",
    "                          output_names=['start', 'end'],                    # the model's output names\n",
    "                          dynamic_axes={'input_ids': symbolic_names,        # variable length axes\n",
    "                                        'input_mask' : symbolic_names,\n",
    "                                        'segment_ids' : symbolic_names,\n",
    "                                        'start' : symbolic_names,\n",
    "                                        'end' : symbolic_names})\n",
    "        print(\"Model exported at \", export_model_path)"
   ]
  },
  {
   "cell_type": "markdown",
   "metadata": {},
   "source": [
    "## 3. PyTorch Inference ##\n",
    "Use PyTorch to evaluate an example input for comparison purpose."
   ]
  },
  {
   "cell_type": "code",
   "execution_count": 10,
   "metadata": {},
   "outputs": [
    {
     "name": "stdout",
     "output_type": "stream",
     "text": [
      "PyTorch cpu Inference time = 57.95 ms\n"
     ]
    }
   ],
   "source": [
    "import time\n",
    "\n",
    "# Measure the latency. It is not accurate using Jupyter Notebook, it is recommended to use standalone python script.\n",
    "latency = []\n",
    "with torch.no_grad():\n",
    "    for i in range(total_samples):\n",
    "        data = dataset[i]\n",
    "        inputs = {\n",
    "            'input_ids':      data[0].to(device).reshape(1, max_seq_length),\n",
    "            'attention_mask': data[1].to(device).reshape(1, max_seq_length),\n",
    "            'token_type_ids': data[2].to(device).reshape(1, max_seq_length)\n",
    "        }\n",
    "        start = time.time()\n",
    "        outputs = model(**inputs)\n",
    "        latency.append(time.time() - start)\n",
    "print(\"PyTorch {} Inference time = {} ms\".format(device.type, format(sum(latency) * 1000 / len(latency), '.2f')))"
   ]
  },
  {
   "cell_type": "markdown",
   "metadata": {},
   "source": [
    "## 4. Inference ONNX Model with ONNX Runtime ##\n",
    "\n",
    "For Onnx Runtime 1.6.0 or older, OpenMP environment variables are very important for CPU inference of Bert model. Since 1.7.0, the official package is not built with OpenMP."
   ]
  },
  {
   "cell_type": "markdown",
   "metadata": {},
   "source": [
    "Now we inference the model with ONNX Runtime. Here we can see that OnnxRuntime has better performance than PyTorch. "
   ]
  },
  {
   "cell_type": "code",
   "execution_count": 11,
   "metadata": {},
   "outputs": [
    {
     "name": "stderr",
     "output_type": "stream",
     "text": [
      "\u001b[0;93m2025-01-11 18:02:32.939794600 [W:onnxruntime:, inference_session.cc:2048 Initialize] Serializing optimized model with Graph Optimization level greater than ORT_ENABLE_EXTENDED and the NchwcTransformer enabled. The generated model may contain hardware specific optimizations, and should only be used in the same environment the model was optimized in.\u001b[m\n"
     ]
    },
    {
     "name": "stdout",
     "output_type": "stream",
     "text": [
      "OnnxRuntime cpu Inference time = 40.93 ms\n"
     ]
    }
   ],
   "source": [
    "import onnxruntime\n",
    "import numpy\n",
    "\n",
    "sess_options = onnxruntime.SessionOptions()\n",
    "\n",
    "# Optional: store the optimized graph and view it using Netron to verify that model is fully optimized.\n",
    "# Note that this will increase session creation time, so it is for debugging only.\n",
    "sess_options.optimized_model_filepath = os.path.join(output_dir, \"optimized_model_cpu.onnx\")\n",
    "\n",
    "# Specify providers when you use onnxruntime-gpu for CPU inference.\n",
    "session = onnxruntime.InferenceSession(export_model_path, sess_options, providers=['CPUExecutionProvider'])\n",
    "\n",
    "latency = []\n",
    "for i in range(total_samples):\n",
    "    data = dataset[i]\n",
    "    ort_inputs = {\n",
    "        'input_ids':  data[0].cpu().reshape(1, max_seq_length).numpy(),\n",
    "        'input_mask': data[1].cpu().reshape(1, max_seq_length).numpy(),\n",
    "        'segment_ids': data[2].cpu().reshape(1, max_seq_length).numpy()\n",
    "    }\n",
    "    start = time.time()\n",
    "    ort_outputs = session.run(None, ort_inputs)\n",
    "    latency.append(time.time() - start)\n",
    "print(\"OnnxRuntime cpu Inference time = {} ms\".format(format(sum(latency) * 1000 / len(latency), '.2f')))"
   ]
  },
  {
   "cell_type": "code",
   "execution_count": 12,
   "metadata": {},
   "outputs": [
    {
     "name": "stdout",
     "output_type": "stream",
     "text": [
      "***** Verifying correctness *****\n",
      "PyTorch and ONNX Runtime output 0 are close: True\n",
      "PyTorch and ONNX Runtime output 1 are close: True\n"
     ]
    }
   ],
   "source": [
    "print(\"***** Verifying correctness *****\")\n",
    "for i in range(2):\n",
    "    print('PyTorch and ONNX Runtime output {} are close:'.format(i), numpy.allclose(ort_outputs[i], outputs[i].cpu(), rtol=1e-05, atol=1e-04))"
   ]
  },
  {
   "cell_type": "markdown",
   "metadata": {},
   "source": [
    "## 5. Offline Optimization Script and Test Tools\n",
    "\n",
    "It is recommended to try [OnnxRuntime Transformer Model Optimization Tool](https://github.com/microsoft/onnxruntime/blob/main/onnxruntime/python/tools/transformers) on the exported ONNX models. It could help verify whether the model can be fully optimized, and get performance test results."
   ]
  },
  {
   "cell_type": "markdown",
   "metadata": {},
   "source": [
    "#### Transformer Optimizer\n",
    "\n",
    "Although OnnxRuntime could optimize Bert model exported by PyTorch. Sometime, model cannot be fully optimized due to different reasons:\n",
    "* A new subgraph pattern is generated by new version of export tool, and the pattern is not covered by older version of OnnxRuntime. \n",
    "* The exported model uses dynamic axis and this makes it harder for shape inference of the graph. That blocks some optimization to be applied.\n",
    "* Some optimization is better to be done offline. Like change input tensor type from int64 to int32 to avoid extra Cast nodes, or convert model to float16 to achieve better performance in V100 or T4 GPU.\n",
    "\n",
    "We have python script **optimizer.py**, which is more flexible in graph pattern matching and model conversion (like float32 to float16). You can also use it to verify whether a Bert model is fully optimized.\n",
    "\n",
    "In this example, we can see that it introduces optimization that is not provided by onnxruntime: SkipLayerNormalization and bias fusion, which is not fused in OnnxRuntime due to shape inference as mentioned.\n",
    "\n",
    "It will also tell whether the model is fully optimized or not. If not, that means you might need change the script to fuse some new pattern of subgraph.\n",
    "\n",
    "Example Usage:\n",
    "```\n",
    "from onnxruntime.transformers import optimizer\n",
    "optimized_model = optimizer.optimize_model(export_model_path, model_type='bert', num_heads=12, hidden_size=768)\n",
    "optimized_model.save_model_to_file(optimized_model_path)\n",
    "```\n",
    "\n",
    "You can also use command line like the following:"
   ]
  },
  {
   "cell_type": "code",
   "execution_count": 16,
   "metadata": {},
   "outputs": [
    {
     "name": "stdout",
     "output_type": "stream",
     "text": [
      "               apply: Fused LayerNormalization: 25\n",
      "               apply: Fused Gelu: 12\n",
      "               apply: Fused SkipLayerNormalization: 24\n",
      "remove_useless_reshape_nodes: Remove reshape node /bert/Reshape since its input shape is same as output: [4]\n",
      "               apply: Fused BiasGelu: 12\n",
      "               apply: Fused SkipLayerNormalization(add bias): 24\n",
      "            optimize: opset version: 14\n",
      "get_operator_statistics: Operators:[('MatMul', 97), ('Add', 51), ('Reshape', 48), ('Transpose', 48), ('Gather', 42), ('Unsqueeze', 30), ('Shape', 26), ('Mul', 24), ('SkipLayerNormalization', 24), ('Sqrt', 24), ('Cast', 14), ('Concat', 13), ('Slice', 13), ('BiasGelu', 12), ('Div', 12), ('Softmax', 12), ('Squeeze', 2), ('Where', 2), ('Equal', 1), ('Expand', 1), ('LayerNormalization', 1), ('Split', 1), ('Sub', 1)]\n",
      "get_fused_operator_statistics: Optimized operators: {'EmbedLayerNormalization': 0, 'Attention': 0, 'MultiHeadAttention': 0, 'Gelu': 0, 'FastGelu': 0, 'BiasGelu': 12, 'GemmFastGelu': 0, 'LayerNormalization': 1, 'SimplifiedLayerNormalization': 0, 'SkipLayerNormalization': 24, 'SkipSimplifiedLayerNormalization': 0, 'RotaryEmbedding': 0, 'QOrderedAttention': 0, 'QOrderedGelu': 0, 'QOrderedLayerNormalization': 0, 'QOrderedMatMul': 0}\n",
      "  is_fully_optimized: \u001b[33mAttention (or MultiHeadAttention) not fused\u001b[0m\n",
      "                main: The model has been optimized.\n",
      "  save_model_to_file: Sort graphs in topological order\n",
      "  save_model_to_file: Model saved to ./onnx_models/bert-base-cased-squad_opt_cpu.onnx\n"
     ]
    }
   ],
   "source": [
    "import sys\n",
    "\n",
    "optimized_model_path = os.path.join(output_dir, 'bert-base-cased-squad_opt_cpu.onnx')\n",
    "\n",
    "!{sys.executable} -m onnxruntime.transformers.optimizer --input $export_model_path --output $optimized_model_path --model_type bert"
   ]
  },
  {
   "cell_type": "markdown",
   "metadata": {},
   "source": [
    "#### Optimized Graph\n",
    "When you can open the optimized model using Netron to visualize, the graph is like the following:\n",
    "<img src='images/optimized_bert_gpu.png'>\n",
    "\n",
    "For CPU, optimized graph is slightly different: FastGelu is replaced by BiasGelu."
   ]
  },
  {
   "cell_type": "code",
   "execution_count": 17,
   "metadata": {},
   "outputs": [
    {
     "name": "stdout",
     "output_type": "stream",
     "text": [
      "Serving './onnx_models/bert-base-cased-squad_opt_cpu.onnx' at http://localhost:8080\n"
     ]
    }
   ],
   "source": [
    "import netron\n",
    "\n",
    "# Change it to False to skip viewing the optimized model in browser.\n",
    "enable_netron = True\n",
    "if enable_netron:\n",
    "    # If you encounter error \"access a socket in a way forbidden by its access permissions\", install Netron as standalone application instead.\n",
    "    netron.start(optimized_model_path)"
   ]
  },
  {
   "cell_type": "markdown",
   "metadata": {},
   "source": [
    "#### Model Results Comparison Tool\n",
    "\n",
    "If your BERT model has three inputs, a script compare_bert_results.py can be used to do a quick verification. The tool will generate some fake input data, and compare results from both the original and optimized models. If outputs are all close, it is safe to use the optimized model.\n",
    "\n",
    "Example of verifying models:"
   ]
  },
  {
   "cell_type": "code",
   "execution_count": 19,
   "metadata": {},
   "outputs": [
    {
     "name": "stdout",
     "output_type": "stream",
     "text": [
      "100% passed for 100 random inputs given thresholds (rtol=0.001, atol=0.0001).\n",
      "maximum absolute difference=7.741153240203857e-06\n"
     ]
    }
   ],
   "source": [
    "!{sys.executable} -m onnxruntime.transformers.compare_bert_results --baseline_model $export_model_path --optimized_model $optimized_model_path --batch_size 1 --sequence_length 128 --samples 100"
   ]
  },
  {
   "cell_type": "markdown",
   "metadata": {},
   "source": [
    "#### Performance Test Tool\n",
    "\n",
    "This tool measures performance of BERT model inference using OnnxRuntime Python API.\n",
    "\n",
    "The following command will create 100 samples of batch_size 1 and sequence length 128 to run inference, then calculate performance numbers like average latency and throughput etc. You can increase number of samples (recommended 1000) to get more stable result."
   ]
  },
  {
   "cell_type": "code",
   "execution_count": 20,
   "metadata": {},
   "outputs": [
    {
     "name": "stdout",
     "output_type": "stream",
     "text": [
      "test setting TestSetting(batch_size=1, sequence_length=128, test_cases=100, test_times=1, use_gpu=False, use_io_binding=False, provider=None, intra_op_num_threads=None, seed=3, verbose=False, log_severity=2, average_sequence_length=128, random_sequence_length=False)\n",
      "Generating 100 samples for batch_size=1 sequence_length=128\n",
      "Running test: model=bert-base-cased-squad_opt_cpu.onnx,graph_optimization_level=ENABLE_ALL,intra_op_num_threads=28,batch_size=1,sequence_length=128,test_cases=100,test_times=1,use_gpu=False,use_io_binding=False,average_sequence_length=128,random_sequence_length=False\n",
      "Average latency = 58.21 ms, Throughput = 17.18 QPS\n",
      "Running test: model=bert-base-cased-squad_opt_cpu.onnx,graph_optimization_level=ENABLE_ALL,intra_op_num_threads=15,batch_size=1,sequence_length=128,test_cases=100,test_times=1,use_gpu=False,use_io_binding=False,average_sequence_length=128,random_sequence_length=False\n",
      "Average latency = 53.28 ms, Throughput = 18.77 QPS\n",
      "Running test: model=bert-base-cased-squad_opt_cpu.onnx,graph_optimization_level=ENABLE_ALL,intra_op_num_threads=14,batch_size=1,sequence_length=128,test_cases=100,test_times=1,use_gpu=False,use_io_binding=False,average_sequence_length=128,random_sequence_length=False\n",
      "Average latency = 37.45 ms, Throughput = 26.70 QPS\n",
      "Running test: model=bert-base-cased-squad_opt_cpu.onnx,graph_optimization_level=ENABLE_ALL,intra_op_num_threads=13,batch_size=1,sequence_length=128,test_cases=100,test_times=1,use_gpu=False,use_io_binding=False,average_sequence_length=128,random_sequence_length=False\n",
      "Average latency = 38.08 ms, Throughput = 26.26 QPS\n",
      "Running test: model=bert-base-cased-squad_opt_cpu.onnx,graph_optimization_level=ENABLE_ALL,intra_op_num_threads=12,batch_size=1,sequence_length=128,test_cases=100,test_times=1,use_gpu=False,use_io_binding=False,average_sequence_length=128,random_sequence_length=False\n",
      "Average latency = 39.03 ms, Throughput = 25.62 QPS\n",
      "Running test: model=bert-base-cased-squad_opt_cpu.onnx,graph_optimization_level=ENABLE_ALL,intra_op_num_threads=11,batch_size=1,sequence_length=128,test_cases=100,test_times=1,use_gpu=False,use_io_binding=False,average_sequence_length=128,random_sequence_length=False\n",
      "Average latency = 43.31 ms, Throughput = 23.09 QPS\n",
      "Running test: model=bert-base-cased-squad_opt_cpu.onnx,graph_optimization_level=ENABLE_ALL,intra_op_num_threads=10,batch_size=1,sequence_length=128,test_cases=100,test_times=1,use_gpu=False,use_io_binding=False,average_sequence_length=128,random_sequence_length=False\n",
      "Average latency = 44.37 ms, Throughput = 22.54 QPS\n",
      "Running test: model=bert-base-cased-squad_opt_cpu.onnx,graph_optimization_level=ENABLE_ALL,intra_op_num_threads=9,batch_size=1,sequence_length=128,test_cases=100,test_times=1,use_gpu=False,use_io_binding=False,average_sequence_length=128,random_sequence_length=False\n",
      "Average latency = 47.71 ms, Throughput = 20.96 QPS\n",
      "Running test: model=bert-base-cased-squad_opt_cpu.onnx,graph_optimization_level=ENABLE_ALL,intra_op_num_threads=8,batch_size=1,sequence_length=128,test_cases=100,test_times=1,use_gpu=False,use_io_binding=False,average_sequence_length=128,random_sequence_length=False\n",
      "Average latency = 51.83 ms, Throughput = 19.29 QPS\n",
      "Running test: model=bert-base-cased-squad_opt_cpu.onnx,graph_optimization_level=ENABLE_ALL,intra_op_num_threads=7,batch_size=1,sequence_length=128,test_cases=100,test_times=1,use_gpu=False,use_io_binding=False,average_sequence_length=128,random_sequence_length=False\n",
      "Average latency = 55.55 ms, Throughput = 18.00 QPS\n",
      "Running test: model=bert-base-cased-squad_opt_cpu.onnx,graph_optimization_level=ENABLE_ALL,intra_op_num_threads=6,batch_size=1,sequence_length=128,test_cases=100,test_times=1,use_gpu=False,use_io_binding=False,average_sequence_length=128,random_sequence_length=False\n",
      "Average latency = 62.87 ms, Throughput = 15.91 QPS\n",
      "Running test: model=bert-base-cased-squad_opt_cpu.onnx,graph_optimization_level=ENABLE_ALL,intra_op_num_threads=5,batch_size=1,sequence_length=128,test_cases=100,test_times=1,use_gpu=False,use_io_binding=False,average_sequence_length=128,random_sequence_length=False\n",
      "Average latency = 74.63 ms, Throughput = 13.40 QPS\n",
      "Running test: model=bert-base-cased-squad_opt_cpu.onnx,graph_optimization_level=ENABLE_ALL,intra_op_num_threads=4,batch_size=1,sequence_length=128,test_cases=100,test_times=1,use_gpu=False,use_io_binding=False,average_sequence_length=128,random_sequence_length=False\n",
      "Average latency = 87.68 ms, Throughput = 11.41 QPS\n",
      "Running test: model=bert-base-cased-squad_opt_cpu.onnx,graph_optimization_level=ENABLE_ALL,intra_op_num_threads=3,batch_size=1,sequence_length=128,test_cases=100,test_times=1,use_gpu=False,use_io_binding=False,average_sequence_length=128,random_sequence_length=False\n",
      "Average latency = 111.07 ms, Throughput = 9.00 QPS\n",
      "Running test: model=bert-base-cased-squad_opt_cpu.onnx,graph_optimization_level=ENABLE_ALL,intra_op_num_threads=2,batch_size=1,sequence_length=128,test_cases=100,test_times=1,use_gpu=False,use_io_binding=False,average_sequence_length=128,random_sequence_length=False\n",
      "Average latency = 160.66 ms, Throughput = 6.22 QPS\n",
      "Running test: model=bert-base-cased-squad_opt_cpu.onnx,graph_optimization_level=ENABLE_ALL,intra_op_num_threads=1,batch_size=1,sequence_length=128,test_cases=100,test_times=1,use_gpu=False,use_io_binding=False,average_sequence_length=128,random_sequence_length=False\n",
      "Average latency = 298.74 ms, Throughput = 3.35 QPS\n",
      "Test summary is saved to onnx_models/perf_results_CPU_B1_S128_20250111-181820.txt\n"
     ]
    }
   ],
   "source": [
    "!{sys.executable} -m onnxruntime.transformers.bert_perf_test --model $optimized_model_path --batch_size 1 --sequence_length 128 --samples 100 --test_times 1"
   ]
  },
  {
   "cell_type": "markdown",
   "metadata": {},
   "source": [
    "Let's load the summary file and take a look."
   ]
  },
  {
   "cell_type": "code",
   "execution_count": 21,
   "metadata": {},
   "outputs": [
    {
     "name": "stdout",
     "output_type": "stream",
     "text": [
      "./onnx_models/perf_results_CPU_B1_S128_20250111-181820.txt\n"
     ]
    },
    {
     "data": {
      "text/html": [
       "<div>\n",
       "<style scoped>\n",
       "    .dataframe tbody tr th:only-of-type {\n",
       "        vertical-align: middle;\n",
       "    }\n",
       "\n",
       "    .dataframe tbody tr th {\n",
       "        vertical-align: top;\n",
       "    }\n",
       "\n",
       "    .dataframe thead th {\n",
       "        text-align: right;\n",
       "    }\n",
       "</style>\n",
       "<table border=\"1\" class=\"dataframe\">\n",
       "  <thead>\n",
       "    <tr style=\"text-align: right;\">\n",
       "      <th></th>\n",
       "      <th>Latency(ms)</th>\n",
       "      <th>Latency_P75</th>\n",
       "      <th>Latency_P90</th>\n",
       "      <th>Latency_P99</th>\n",
       "      <th>Throughput(QPS)</th>\n",
       "      <th>intra_op_num_threads</th>\n",
       "      <th>use_io_binding</th>\n",
       "      <th>average_sequence_length</th>\n",
       "      <th>random_sequence_length</th>\n",
       "    </tr>\n",
       "  </thead>\n",
       "  <tbody>\n",
       "    <tr>\n",
       "      <th>0</th>\n",
       "      <td>37.45</td>\n",
       "      <td>37.39</td>\n",
       "      <td>37.79</td>\n",
       "      <td>45.16</td>\n",
       "      <td>26.70</td>\n",
       "      <td>14</td>\n",
       "      <td>False</td>\n",
       "      <td>128</td>\n",
       "      <td>False</td>\n",
       "    </tr>\n",
       "    <tr>\n",
       "      <th>1</th>\n",
       "      <td>38.08</td>\n",
       "      <td>37.27</td>\n",
       "      <td>38.13</td>\n",
       "      <td>55.51</td>\n",
       "      <td>26.26</td>\n",
       "      <td>13</td>\n",
       "      <td>False</td>\n",
       "      <td>128</td>\n",
       "      <td>False</td>\n",
       "    </tr>\n",
       "    <tr>\n",
       "      <th>2</th>\n",
       "      <td>39.03</td>\n",
       "      <td>39.07</td>\n",
       "      <td>39.63</td>\n",
       "      <td>46.51</td>\n",
       "      <td>25.62</td>\n",
       "      <td>12</td>\n",
       "      <td>False</td>\n",
       "      <td>128</td>\n",
       "      <td>False</td>\n",
       "    </tr>\n",
       "    <tr>\n",
       "      <th>3</th>\n",
       "      <td>43.31</td>\n",
       "      <td>43.49</td>\n",
       "      <td>43.98</td>\n",
       "      <td>50.27</td>\n",
       "      <td>23.09</td>\n",
       "      <td>11</td>\n",
       "      <td>False</td>\n",
       "      <td>128</td>\n",
       "      <td>False</td>\n",
       "    </tr>\n",
       "    <tr>\n",
       "      <th>4</th>\n",
       "      <td>44.37</td>\n",
       "      <td>44.60</td>\n",
       "      <td>45.57</td>\n",
       "      <td>48.79</td>\n",
       "      <td>22.54</td>\n",
       "      <td>10</td>\n",
       "      <td>False</td>\n",
       "      <td>128</td>\n",
       "      <td>False</td>\n",
       "    </tr>\n",
       "    <tr>\n",
       "      <th>5</th>\n",
       "      <td>47.71</td>\n",
       "      <td>47.67</td>\n",
       "      <td>48.26</td>\n",
       "      <td>53.16</td>\n",
       "      <td>20.96</td>\n",
       "      <td>9</td>\n",
       "      <td>False</td>\n",
       "      <td>128</td>\n",
       "      <td>False</td>\n",
       "    </tr>\n",
       "    <tr>\n",
       "      <th>6</th>\n",
       "      <td>51.83</td>\n",
       "      <td>52.45</td>\n",
       "      <td>52.93</td>\n",
       "      <td>55.18</td>\n",
       "      <td>19.29</td>\n",
       "      <td>8</td>\n",
       "      <td>False</td>\n",
       "      <td>128</td>\n",
       "      <td>False</td>\n",
       "    </tr>\n",
       "    <tr>\n",
       "      <th>7</th>\n",
       "      <td>53.28</td>\n",
       "      <td>53.39</td>\n",
       "      <td>53.64</td>\n",
       "      <td>54.25</td>\n",
       "      <td>18.77</td>\n",
       "      <td>15</td>\n",
       "      <td>False</td>\n",
       "      <td>128</td>\n",
       "      <td>False</td>\n",
       "    </tr>\n",
       "    <tr>\n",
       "      <th>8</th>\n",
       "      <td>55.55</td>\n",
       "      <td>55.56</td>\n",
       "      <td>55.77</td>\n",
       "      <td>57.75</td>\n",
       "      <td>18.00</td>\n",
       "      <td>7</td>\n",
       "      <td>False</td>\n",
       "      <td>128</td>\n",
       "      <td>False</td>\n",
       "    </tr>\n",
       "    <tr>\n",
       "      <th>9</th>\n",
       "      <td>58.21</td>\n",
       "      <td>57.95</td>\n",
       "      <td>59.99</td>\n",
       "      <td>96.54</td>\n",
       "      <td>17.18</td>\n",
       "      <td>28</td>\n",
       "      <td>False</td>\n",
       "      <td>128</td>\n",
       "      <td>False</td>\n",
       "    </tr>\n",
       "    <tr>\n",
       "      <th>10</th>\n",
       "      <td>62.87</td>\n",
       "      <td>63.28</td>\n",
       "      <td>63.45</td>\n",
       "      <td>67.72</td>\n",
       "      <td>15.91</td>\n",
       "      <td>6</td>\n",
       "      <td>False</td>\n",
       "      <td>128</td>\n",
       "      <td>False</td>\n",
       "    </tr>\n",
       "    <tr>\n",
       "      <th>11</th>\n",
       "      <td>74.63</td>\n",
       "      <td>75.07</td>\n",
       "      <td>77.38</td>\n",
       "      <td>78.71</td>\n",
       "      <td>13.40</td>\n",
       "      <td>5</td>\n",
       "      <td>False</td>\n",
       "      <td>128</td>\n",
       "      <td>False</td>\n",
       "    </tr>\n",
       "    <tr>\n",
       "      <th>12</th>\n",
       "      <td>87.68</td>\n",
       "      <td>88.49</td>\n",
       "      <td>89.31</td>\n",
       "      <td>95.99</td>\n",
       "      <td>11.41</td>\n",
       "      <td>4</td>\n",
       "      <td>False</td>\n",
       "      <td>128</td>\n",
       "      <td>False</td>\n",
       "    </tr>\n",
       "    <tr>\n",
       "      <th>13</th>\n",
       "      <td>111.07</td>\n",
       "      <td>111.41</td>\n",
       "      <td>114.07</td>\n",
       "      <td>118.35</td>\n",
       "      <td>9.00</td>\n",
       "      <td>3</td>\n",
       "      <td>False</td>\n",
       "      <td>128</td>\n",
       "      <td>False</td>\n",
       "    </tr>\n",
       "    <tr>\n",
       "      <th>14</th>\n",
       "      <td>160.66</td>\n",
       "      <td>161.70</td>\n",
       "      <td>162.44</td>\n",
       "      <td>166.18</td>\n",
       "      <td>6.22</td>\n",
       "      <td>2</td>\n",
       "      <td>False</td>\n",
       "      <td>128</td>\n",
       "      <td>False</td>\n",
       "    </tr>\n",
       "    <tr>\n",
       "      <th>15</th>\n",
       "      <td>298.74</td>\n",
       "      <td>300.39</td>\n",
       "      <td>302.75</td>\n",
       "      <td>304.49</td>\n",
       "      <td>3.35</td>\n",
       "      <td>1</td>\n",
       "      <td>False</td>\n",
       "      <td>128</td>\n",
       "      <td>False</td>\n",
       "    </tr>\n",
       "  </tbody>\n",
       "</table>\n",
       "</div>"
      ],
      "text/plain": [
       "    Latency(ms)  Latency_P75  Latency_P90  Latency_P99  Throughput(QPS)  \\\n",
       "0         37.45        37.39        37.79        45.16            26.70   \n",
       "1         38.08        37.27        38.13        55.51            26.26   \n",
       "2         39.03        39.07        39.63        46.51            25.62   \n",
       "3         43.31        43.49        43.98        50.27            23.09   \n",
       "4         44.37        44.60        45.57        48.79            22.54   \n",
       "5         47.71        47.67        48.26        53.16            20.96   \n",
       "6         51.83        52.45        52.93        55.18            19.29   \n",
       "7         53.28        53.39        53.64        54.25            18.77   \n",
       "8         55.55        55.56        55.77        57.75            18.00   \n",
       "9         58.21        57.95        59.99        96.54            17.18   \n",
       "10        62.87        63.28        63.45        67.72            15.91   \n",
       "11        74.63        75.07        77.38        78.71            13.40   \n",
       "12        87.68        88.49        89.31        95.99            11.41   \n",
       "13       111.07       111.41       114.07       118.35             9.00   \n",
       "14       160.66       161.70       162.44       166.18             6.22   \n",
       "15       298.74       300.39       302.75       304.49             3.35   \n",
       "\n",
       "    intra_op_num_threads  use_io_binding  average_sequence_length  \\\n",
       "0                     14           False                      128   \n",
       "1                     13           False                      128   \n",
       "2                     12           False                      128   \n",
       "3                     11           False                      128   \n",
       "4                     10           False                      128   \n",
       "5                      9           False                      128   \n",
       "6                      8           False                      128   \n",
       "7                     15           False                      128   \n",
       "8                      7           False                      128   \n",
       "9                     28           False                      128   \n",
       "10                     6           False                      128   \n",
       "11                     5           False                      128   \n",
       "12                     4           False                      128   \n",
       "13                     3           False                      128   \n",
       "14                     2           False                      128   \n",
       "15                     1           False                      128   \n",
       "\n",
       "    random_sequence_length  \n",
       "0                    False  \n",
       "1                    False  \n",
       "2                    False  \n",
       "3                    False  \n",
       "4                    False  \n",
       "5                    False  \n",
       "6                    False  \n",
       "7                    False  \n",
       "8                    False  \n",
       "9                    False  \n",
       "10                   False  \n",
       "11                   False  \n",
       "12                   False  \n",
       "13                   False  \n",
       "14                   False  \n",
       "15                   False  "
      ]
     },
     "execution_count": 21,
     "metadata": {},
     "output_type": "execute_result"
    }
   ],
   "source": [
    "import os\n",
    "import glob\n",
    "import pandas\n",
    "latest_result_file = max(glob.glob(os.path.join(output_dir, \"perf_results_*.txt\")), key=os.path.getmtime)\n",
    "result_data = pandas.read_table(latest_result_file, converters={'OMP_NUM_THREADS': str, 'OMP_WAIT_POLICY':str})\n",
    "print(latest_result_file)\n",
    "\n",
    "# Remove some columns that have same values for all rows.\n",
    "columns_to_remove = ['model', 'graph_optimization_level', 'batch_size', 'sequence_length', 'test_cases', 'test_times', 'use_gpu']\n",
    "# Hide some latency percentile columns to fit screen width.\n",
    "columns_to_remove.extend(['Latency_P50', 'Latency_P95'])\n",
    "result_data.drop(columns_to_remove, axis=1, inplace=True)\n",
    "result_data"
   ]
  },
  {
   "cell_type": "markdown",
   "metadata": {},
   "source": [
    "## 6. Quantization\n",
    "\n",
    "Please see example in [BERT quantization notebook](https://github.com/microsoft/onnxruntime-inference-examples/blob/main/quantization/notebooks/bert/Bert-GLUE_OnnxRuntime_quantization.ipynb)."
   ]
  },
  {
   "cell_type": "markdown",
   "metadata": {},
   "source": [
    "## 7. Additional Info\n",
    "\n",
    "Note that running Jupyter Notebook has slight impact on performance result since Jupyter Notebook is using system resources like CPU and memory etc. It is recommended to close Jupyter Notebook and other applications, then run the performance test tool in a console to get more accurate performance numbers.\n",
    "\n",
    "We have a [benchmark script](https://github.com/microsoft/onnxruntime/blob/main/onnxruntime/python/tools/transformers/run_benchmark.sh). It is recommended to use it compare inference speed of OnnxRuntime with PyTorch.\n",
    "\n",
    "[OnnxRuntime C API](https://github.com/microsoft/onnxruntime/blob/main/docs/C_API.md) could get slightly better performance than python API. If you use C API in inference, you can use OnnxRuntime_Perf_Test.exe built from source to measure performance instead.\n",
    "\n",
    "Here is the machine configuration that generated the above results. The machine has GPU but not used in CPU inference.\n",
    "You might get slower or faster result based on your hardware."
   ]
  },
  {
   "cell_type": "code",
   "execution_count": 23,
   "metadata": {},
   "outputs": [
    {
     "name": "stdout",
     "output_type": "stream",
     "text": [
      "/home/haoyu/anaconda3/envs/vLLM/lib/python3.12/site-packages/onnxruntime/transformers/machine_info.py:126: DeprecationWarning: pkg_resources is deprecated as an API. See https://setuptools.pypa.io/en/latest/pkg_resources.html\n",
      "  import pkg_resources\n",
      "{\n",
      "  \"gpu\": {\n",
      "    \"driver_version\": \"535.183.01\",\n",
      "    \"devices\": [\n",
      "      {\n",
      "        \"memory_total\": 25769803776,\n",
      "        \"memory_available\": 24827854848,\n",
      "        \"name\": \"NVIDIA GeForce RTX 3090\"\n",
      "      }\n",
      "    ]\n",
      "  },\n",
      "  \"cpu\": {\n",
      "    \"brand\": \"Intel(R) Xeon(R) CPU E5-2680 v4 @ 2.40GHz\",\n",
      "    \"cores\": 14,\n",
      "    \"logical_cores\": 28,\n",
      "    \"hz\": \"1596217000,0\",\n",
      "    \"l2_cache\": \"3.5 MiB\",\n",
      "    \"flags\": \"3dnowprefetch,abm,acpi,adx,aes,aperfmperf,apic,arat,arch_perfmon,avx,avx2,bmi1,bmi2,bts,cat_l3,cdp_l3,clflush,cmov,constant_tsc,cpuid,cpuid_fault,cqm,cqm_llc,cqm_mbm_local,cqm_mbm_total,cqm_occup_llc,cx16,cx8,dca,de,ds_cpl,dtes64,dtherm,dts,epb,ept,ept_ad,erms,est,f16c,flexpriority,flush_l1d,fma,fpu,fsgsbase,fxsr,hle,ht,ibpb,ibrs,ida,intel_ppin,intel_pt,invpcid,lahf_lm,lm,mca,mce,md_clear,mmx,monitor,movbe,msr,mtrr,nonstop_tsc,nopl,nx,osxsave,pae,pat,pbe,pcid,pclmulqdq,pdcm,pdpe1gb,pebs,pge,pln,pni,popcnt,pqe,pqm,pse,pse36,pti,pts,rdrand,rdrnd,rdseed,rdt_a,rdtscp,rep_good,rtm,sdbg,sep,smap,smep,smx,ss,ssbd,sse,sse2,sse4_1,sse4_2,ssse3,stibp,syscall,tm,tm2,tpr_shadow,tsc,tsc_adjust,tsc_deadline_timer,tscdeadline,vme,vmx,vnmi,vpid,x2apic,xsave,xsaveopt,xtopology,xtpr\",\n",
      "    \"processor\": \"x86_64\"\n",
      "  },\n",
      "  \"memory\": {\n",
      "    \"total\": 33481203712,\n",
      "    \"available\": 21811187712\n",
      "  },\n",
      "  \"os\": \"Linux-6.8.0-51-generic-x86_64-with-glibc2.35\",\n",
      "  \"python\": \"3.12.8.final.0 (64 bit)\",\n",
      "  \"packages\": {\n",
      "    \"flatbuffers\": \"24.12.23\",\n",
      "    \"numpy\": \"1.26.4\",\n",
      "    \"onnx\": \"1.17.0\",\n",
      "    \"onnxconverter-common\": \"1.14.0\",\n",
      "    \"onnxruntime-gpu\": \"1.20.1\",\n",
      "    \"protobuf\": \"3.20.2\",\n",
      "    \"sympy\": \"1.13.1\",\n",
      "    \"torch\": \"2.5.1\",\n",
      "    \"transformers\": \"4.47.0\"\n",
      "  },\n",
      "  \"onnxruntime\": {\n",
      "    \"version\": \"1.20.1\",\n",
      "    \"support_gpu\": true\n",
      "  },\n",
      "  \"pytorch\": {\n",
      "    \"version\": \"2.5.1+cu124\",\n",
      "    \"support_gpu\": true,\n",
      "    \"cuda\": \"12.4\"\n",
      "  },\n",
      "  \"tensorflow\": null\n",
      "}\n"
     ]
    }
   ],
   "source": [
    "!{sys.executable} -m onnxruntime.transformers.machine_info --silent"
   ]
  }
 ],
 "metadata": {
  "kernelspec": {
   "display_name": "vLLM",
   "language": "python",
   "name": "python3"
  },
  "language_info": {
   "codemirror_mode": {
    "name": "ipython",
    "version": 3
   },
   "file_extension": ".py",
   "mimetype": "text/x-python",
   "name": "python",
   "nbconvert_exporter": "python",
   "pygments_lexer": "ipython3",
   "version": "3.12.8"
  }
 },
 "nbformat": 4,
 "nbformat_minor": 4
}
