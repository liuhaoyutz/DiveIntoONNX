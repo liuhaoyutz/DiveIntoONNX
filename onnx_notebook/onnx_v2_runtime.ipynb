{
 "cells": [
  {
   "cell_type": "markdown",
   "metadata": {},
   "source": [
    "https://blog.csdn.net/fengdu78/article/details/142531250"
   ]
  },
  {
   "cell_type": "code",
   "execution_count": 1,
   "metadata": {},
   "outputs": [
    {
     "name": "stdout",
     "output_type": "stream",
     "text": [
      "result[0]_shape= (1, 32, 510, 510)\n"
     ]
    },
    {
     "name": "stderr",
     "output_type": "stream",
     "text": [
      "\u001b[0;93m2025-01-09 18:11:04.105071285 [W:onnxruntime:, execution_frame.cc:870 VerifyOutputSizes] Expected shape from model of {1,32,512,512} does not match actual shape of {1,32,510,510} for output output\u001b[m\n"
     ]
    }
   ],
   "source": [
    "\"\"\"\n",
    "onnx推理\n",
    "\"\"\"\n",
    "import onnxruntime\n",
    "import numpy as np\n",
    " \n",
    "# 加载模型\n",
    "weight_path = 'resize_conv_add.onnx'\n",
    "session = onnxruntime.InferenceSession(weight_path) # 加载模型\n",
    "# 获取输入节点名称\n",
    "session.get_modelmeta()\n",
    "input_name = session.get_inputs()[0].name\n",
    "roi_name = session.get_inputs()[1].name\n",
    "scales_name = session.get_inputs()[2].name\n",
    "conv_weight_name = session.get_inputs()[3].name\n",
    "conv_bias_name = session.get_inputs()[4].name\n",
    "add_input_name = session.get_inputs()[5].name\n",
    "output_name = session.get_outputs()[0].name\n",
    " \n",
    "# 定义输入节点向量\n",
    "input_data = np.random.randn(1,3,256,256).astype(np.float32)\n",
    "roi_data = np.array([]).astype(np.float32)\n",
    "scales_data = np.array([1,1,2,2]).astype(np.float32)\n",
    "conv_weight_data = np.random.randn(32,3,3,3).astype(np.float32)\n",
    "conv_bias_data = np.random.randn(32).astype(np.float32)\n",
    "add_input_data = np.random.randn(1).astype(np.float32)\n",
    " \n",
    "# 推理\n",
    "input_dict = {input_name:input_data,roi_name:roi_data,scales_name:scales_data,conv_weight_name:conv_weight_data,\n",
    "              conv_bias_name:conv_bias_data,add_input_name:add_input_data}\n",
    "result = session.run(None,input_dict) # 推理模型，输入向量采用字典类型表示\n",
    "print('result[0]_shape=',result[0].shape)"
   ]
  },
  {
   "cell_type": "code",
   "execution_count": null,
   "metadata": {},
   "outputs": [],
   "source": []
  }
 ],
 "metadata": {
  "kernelspec": {
   "display_name": "vLLM",
   "language": "python",
   "name": "python3"
  },
  "language_info": {
   "codemirror_mode": {
    "name": "ipython",
    "version": 3
   },
   "file_extension": ".py",
   "mimetype": "text/x-python",
   "name": "python",
   "nbconvert_exporter": "python",
   "pygments_lexer": "ipython3",
   "version": "3.12.8"
  }
 },
 "nbformat": 4,
 "nbformat_minor": 2
}
