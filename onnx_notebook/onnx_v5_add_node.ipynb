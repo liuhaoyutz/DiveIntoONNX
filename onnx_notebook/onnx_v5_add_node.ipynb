{
 "cells": [
  {
   "cell_type": "markdown",
   "metadata": {},
   "source": [
    "https://blog.csdn.net/fengdu78/article/details/142531250"
   ]
  },
  {
   "cell_type": "code",
   "execution_count": 13,
   "metadata": {},
   "outputs": [
    {
     "ename": "ValidationError",
     "evalue": "Nodes in a graph must be topologically sorted, however input 'add_input' of node: \nname: add OpType: Add\n is not output of any previous nodes.",
     "output_type": "error",
     "traceback": [
      "\u001b[0;31m---------------------------------------------------------------------------\u001b[0m",
      "\u001b[0;31mValidationError\u001b[0m                           Traceback (most recent call last)",
      "Cell \u001b[0;32mIn[13], line 52\u001b[0m\n\u001b[1;32m     50\u001b[0m model_int32 \u001b[38;5;241m=\u001b[39m h\u001b[38;5;241m.\u001b[39mmake_model(graph_int32, producer_name\u001b[38;5;241m=\u001b[39m\u001b[38;5;124m\"\u001b[39m\u001b[38;5;124monnx-typecast\u001b[39m\u001b[38;5;124m\"\u001b[39m)\n\u001b[1;32m     51\u001b[0m model_int32\u001b[38;5;241m.\u001b[39mopset_import[\u001b[38;5;241m0\u001b[39m]\u001b[38;5;241m.\u001b[39mversion \u001b[38;5;241m=\u001b[39m opset_version\n\u001b[0;32m---> 52\u001b[0m \u001b[43mch\u001b[49m\u001b[38;5;241;43m.\u001b[39;49m\u001b[43mcheck_model\u001b[49m\u001b[43m(\u001b[49m\u001b[43mmodel_int32\u001b[49m\u001b[43m)\u001b[49m\n\u001b[1;32m     53\u001b[0m onnx\u001b[38;5;241m.\u001b[39msave_model(model_int32, \u001b[38;5;124m\"\u001b[39m\u001b[38;5;124madd_cast.onnx\u001b[39m\u001b[38;5;124m\"\u001b[39m)\n",
      "File \u001b[0;32m~/anaconda3/envs/vLLM/lib/python3.12/site-packages/onnx/checker.py:179\u001b[0m, in \u001b[0;36mcheck_model\u001b[0;34m(model, full_check, skip_opset_compatibility_check, check_custom_domain)\u001b[0m\n\u001b[1;32m    175\u001b[0m \u001b[38;5;28;01mif\u001b[39;00m sys\u001b[38;5;241m.\u001b[39mgetsizeof(protobuf_string) \u001b[38;5;241m>\u001b[39m MAXIMUM_PROTOBUF:\n\u001b[1;32m    176\u001b[0m     \u001b[38;5;28;01mraise\u001b[39;00m \u001b[38;5;167;01mValueError\u001b[39;00m(\n\u001b[1;32m    177\u001b[0m         \u001b[38;5;124m\"\u001b[39m\u001b[38;5;124mThis protobuf of onnx model is too large (>2GB). Call check_model with model path instead.\u001b[39m\u001b[38;5;124m\"\u001b[39m\n\u001b[1;32m    178\u001b[0m     )\n\u001b[0;32m--> 179\u001b[0m \u001b[43mC\u001b[49m\u001b[38;5;241;43m.\u001b[39;49m\u001b[43mcheck_model\u001b[49m\u001b[43m(\u001b[49m\n\u001b[1;32m    180\u001b[0m \u001b[43m    \u001b[49m\u001b[43mprotobuf_string\u001b[49m\u001b[43m,\u001b[49m\n\u001b[1;32m    181\u001b[0m \u001b[43m    \u001b[49m\u001b[43mfull_check\u001b[49m\u001b[43m,\u001b[49m\n\u001b[1;32m    182\u001b[0m \u001b[43m    \u001b[49m\u001b[43mskip_opset_compatibility_check\u001b[49m\u001b[43m,\u001b[49m\n\u001b[1;32m    183\u001b[0m \u001b[43m    \u001b[49m\u001b[43mcheck_custom_domain\u001b[49m\u001b[43m,\u001b[49m\n\u001b[1;32m    184\u001b[0m \u001b[43m\u001b[49m\u001b[43m)\u001b[49m\n",
      "\u001b[0;31mValidationError\u001b[0m: Nodes in a graph must be topologically sorted, however input 'add_input' of node: \nname: add OpType: Add\n is not output of any previous nodes."
     ]
    }
   ],
   "source": [
    "\"\"\"\n",
    "删除和新增onnx节点\n",
    "\"\"\"\n",
    " \n",
    "import onnx\n",
    "from onnx import helper as h\n",
    "from onnx import checker as ch\n",
    "from onnx import TensorProto\n",
    " \n",
    "def add_cast_node(nodes):\n",
    "    new_nodes = []\n",
    "    for node in nodes:\n",
    "        if node.name == \"add\":\n",
    "            new_scale_node = onnx.helper.make_node(\n",
    "                \"Add\",\n",
    "                inputs=['conv_output','add_input'],\n",
    "                outputs=['add_output'],\n",
    "                name='add')\n",
    "            new_add_node = onnx.helper.make_node(\n",
    "                'Cast',\n",
    "                inputs=['add_output'],\n",
    "                outputs=['output'],\n",
    "                name ='cast',\n",
    "                to= TensorProto.INT64\n",
    "            )\n",
    "            new_nodes += [new_scale_node, new_add_node]\n",
    "        else:\n",
    "            new_nodes += [node]\n",
    " \n",
    "    return new_nodes\n",
    " \n",
    "if __name__=='__main__':\n",
    "    model = onnx.load('resize_conv_add.onnx')\n",
    "    graph = model.graph\n",
    "    nodes = graph.node\n",
    "    opset_version = model.opset_import[0].version\n",
    "    opset_version = 11\n",
    "    graph_name = f\"{graph.name}-int32\"\n",
    "    #new_nodes = delete_add_node(nodes)\n",
    "    new_nodes = add_cast_node(nodes)\n",
    "    graph.output[0].type.tensor_type.elem_type = 7\n",
    "    graph_int32 = h.make_graph(\n",
    "        new_nodes,\n",
    "        graph_name,\n",
    "        graph.input[:-1],\n",
    "        graph.output,\n",
    "        initializer=graph.initializer,\n",
    "    )\n",
    " \n",
    "    model_int32 = h.make_model(graph_int32, producer_name=\"onnx-typecast\")\n",
    "    model_int32.opset_import[0].version = opset_version\n",
    "    ch.check_model(model_int32)\n",
    "    onnx.save_model(model_int32, \"add_cast.onnx\")"
   ]
  },
  {
   "cell_type": "code",
   "execution_count": null,
   "metadata": {},
   "outputs": [],
   "source": []
  }
 ],
 "metadata": {
  "kernelspec": {
   "display_name": "vLLM",
   "language": "python",
   "name": "python3"
  },
  "language_info": {
   "codemirror_mode": {
    "name": "ipython",
    "version": 3
   },
   "file_extension": ".py",
   "mimetype": "text/x-python",
   "name": "python",
   "nbconvert_exporter": "python",
   "pygments_lexer": "ipython3",
   "version": "3.12.8"
  }
 },
 "nbformat": 4,
 "nbformat_minor": 2
}
