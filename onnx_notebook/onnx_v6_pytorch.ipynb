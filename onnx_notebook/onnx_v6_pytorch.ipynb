{
 "cells": [
  {
   "cell_type": "markdown",
   "metadata": {},
   "source": [
    "https://blog.csdn.net/fengdu78/article/details/142531250"
   ]
  },
  {
   "cell_type": "code",
   "execution_count": 1,
   "metadata": {},
   "outputs": [
    {
     "name": "stdout",
     "output_type": "stream",
     "text": [
      "torch.Size([5, 32, 640, 640])\n"
     ]
    }
   ],
   "source": [
    "\"\"\"\n",
    "自定义算子，同时看onnx实现pytorch算子的算法\n",
    "\"\"\"\n",
    "import torch\n",
    "import torch.nn as nn\n",
    " \n",
    "class Conv(nn.Module):\n",
    "    def __init__(self, in_ch=3,out_ch=32,kernel_size=3,stride=1,padding=1):\n",
    "        super(Conv, self).__init__()\n",
    "        self.kernel_size = kernel_size\n",
    "        self.stride = stride\n",
    "        self.padding = padding\n",
    "        self.conv_module = nn.Sequential(\n",
    "            nn.Conv2d(in_channels=in_ch,out_channels=out_ch,kernel_size=kernel_size,stride=stride,padding=padding),\n",
    "            nn.BatchNorm2d(out_ch),\n",
    "            nn.SiLU()\n",
    "        )\n",
    " \n",
    "    def forward(self, img):\n",
    "        img1 = self.conv_module(img)\n",
    "        return img1\n",
    " \n",
    "if __name__=='__main__':\n",
    "    conv_module = Conv()\n",
    "    img1 = torch.randn(5,3,640,640)\n",
    "    img2 = conv_module(img1)\n",
    "    print(img2.shape)\n",
    "    torch.onnx.export(conv_module, img1, \"conv_module.onnx\", input_names=[\"input\"], output_names=[\"values\"],opset_version=12)"
   ]
  }
 ],
 "metadata": {
  "kernelspec": {
   "display_name": "vLLM",
   "language": "python",
   "name": "python3"
  },
  "language_info": {
   "codemirror_mode": {
    "name": "ipython",
    "version": 3
   },
   "file_extension": ".py",
   "mimetype": "text/x-python",
   "name": "python",
   "nbconvert_exporter": "python",
   "pygments_lexer": "ipython3",
   "version": "3.12.8"
  }
 },
 "nbformat": 4,
 "nbformat_minor": 2
}
