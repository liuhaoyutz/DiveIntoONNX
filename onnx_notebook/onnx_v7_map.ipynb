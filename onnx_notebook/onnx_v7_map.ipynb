{
 "cells": [
  {
   "cell_type": "markdown",
   "metadata": {},
   "source": [
    "https://blog.csdn.net/fengdu78/article/details/142531250"
   ]
  },
  {
   "cell_type": "code",
   "execution_count": 1,
   "metadata": {},
   "outputs": [
    {
     "ename": "ModuleNotFoundError",
     "evalue": "No module named 'torch.onnx.symbolic_registry'",
     "output_type": "error",
     "traceback": [
      "\u001b[0;31m---------------------------------------------------------------------------\u001b[0m",
      "\u001b[0;31mModuleNotFoundError\u001b[0m                       Traceback (most recent call last)",
      "Cell \u001b[0;32mIn[1], line 10\u001b[0m\n\u001b[1;32m      7\u001b[0m     \u001b[38;5;28;01mdef\u001b[39;00m \u001b[38;5;21mforward\u001b[39m(\u001b[38;5;28mself\u001b[39m, x): \n\u001b[1;32m      8\u001b[0m         \u001b[38;5;28;01mreturn\u001b[39;00m torch\u001b[38;5;241m.\u001b[39masinh(x) \n\u001b[0;32m---> 10\u001b[0m \u001b[38;5;28;01mfrom\u001b[39;00m \u001b[38;5;21;01mtorch\u001b[39;00m\u001b[38;5;21;01m.\u001b[39;00m\u001b[38;5;21;01monnx\u001b[39;00m\u001b[38;5;21;01m.\u001b[39;00m\u001b[38;5;21;01msymbolic_registry\u001b[39;00m \u001b[38;5;28;01mimport\u001b[39;00m register_op \n\u001b[1;32m     12\u001b[0m \u001b[38;5;28;01mdef\u001b[39;00m \u001b[38;5;21masinh_symbolic\u001b[39m(g, \u001b[38;5;28minput\u001b[39m, \u001b[38;5;241m*\u001b[39m, out\u001b[38;5;241m=\u001b[39m\u001b[38;5;28;01mNone\u001b[39;00m): \u001b[38;5;66;03m# 定义onnx算子\u001b[39;00m\n\u001b[1;32m     13\u001b[0m     \u001b[38;5;28;01mreturn\u001b[39;00m g\u001b[38;5;241m.\u001b[39mop(\u001b[38;5;124m\"\u001b[39m\u001b[38;5;124mAsinh\u001b[39m\u001b[38;5;124m\"\u001b[39m, \u001b[38;5;28minput\u001b[39m) \n",
      "\u001b[0;31mModuleNotFoundError\u001b[0m: No module named 'torch.onnx.symbolic_registry'"
     ]
    }
   ],
   "source": [
    "import torch \n",
    " \n",
    "class Model(torch.nn.Module): \n",
    "    def __init__(self): \n",
    "        super().__init__() \n",
    " \n",
    "    def forward(self, x): \n",
    "        return torch.asinh(x) \n",
    " \n",
    "from torch.onnx.symbolic_registry import register_op \n",
    " \n",
    "def asinh_symbolic(g, input, *, out=None): # 定义onnx算子\n",
    "    return g.op(\"Asinh\", input) \n",
    " \n",
    "register_op('asinh', asinh_symbolic, '', 9) #注册，映射\n",
    " \n",
    "model = Model() \n",
    "input = torch.rand(1, 3, 10, 10) \n",
    "torch.onnx.export(model, input, 'asinh.onnx')"
   ]
  }
 ],
 "metadata": {
  "kernelspec": {
   "display_name": "vLLM",
   "language": "python",
   "name": "python3"
  },
  "language_info": {
   "codemirror_mode": {
    "name": "ipython",
    "version": 3
   },
   "file_extension": ".py",
   "mimetype": "text/x-python",
   "name": "python",
   "nbconvert_exporter": "python",
   "pygments_lexer": "ipython3",
   "version": "3.12.8"
  }
 },
 "nbformat": 4,
 "nbformat_minor": 2
}
