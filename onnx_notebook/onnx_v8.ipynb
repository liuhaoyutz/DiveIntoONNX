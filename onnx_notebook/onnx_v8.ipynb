{
 "cells": [
  {
   "cell_type": "markdown",
   "metadata": {},
   "source": [
    "https://zhuanlan.zhihu.com/p/10729441465"
   ]
  },
  {
   "cell_type": "code",
   "execution_count": 1,
   "metadata": {},
   "outputs": [],
   "source": [
    "import torch\n",
    "import torch.nn as nn\n",
    "import torch.optim as optim\n",
    "\n",
    "# 定义一个简单的神经网络\n",
    "class SimpleModel(nn.Module):\n",
    "    def __init__(self):\n",
    "        super(SimpleModel, self).__init__()\n",
    "        self.fc1 = nn.Linear(10, 50)\n",
    "        self.fc2 = nn.Linear(50, 2)\n",
    "\n",
    "    def forward(self, x):\n",
    "        x = torch.relu(self.fc1(x))\n",
    "        x = self.fc2(x)\n",
    "        return x\n",
    "\n",
    "# 创建模型实例\n",
    "model = SimpleModel()\n",
    "\n",
    "# 创建一个随机输入\n",
    "input_tensor = torch.randn(1, 10)\n",
    "\n",
    "# 将模型转换为ONNX格式\n",
    "torch.onnx.export(model, input_tensor, \"simple_model.onnx\", opset_version=11)"
   ]
  },
  {
   "cell_type": "code",
   "execution_count": 2,
   "metadata": {},
   "outputs": [
    {
     "name": "stdout",
     "output_type": "stream",
     "text": [
      "ONNX模型有效！\n"
     ]
    }
   ],
   "source": [
    "import onnx\n",
    "\n",
    "# 加载模型\n",
    "onnx_model = onnx.load(\"simple_model.onnx\")\n",
    "\n",
    "# 检查模型是否有效\n",
    "onnx.checker.check_model(onnx_model)\n",
    "\n",
    "print(\"ONNX模型有效！\")"
   ]
  },
  {
   "cell_type": "code",
   "execution_count": 3,
   "metadata": {},
   "outputs": [
    {
     "name": "stdout",
     "output_type": "stream",
     "text": [
      "模型输出： [array([[-0.24342236,  0.07350808]], dtype=float32)]\n"
     ]
    }
   ],
   "source": [
    "import onnxruntime as ort\n",
    "import numpy as np\n",
    "\n",
    "# 加载ONNX模型\n",
    "session = ort.InferenceSession(\"simple_model.onnx\")\n",
    "\n",
    "# 创建一个示例输入\n",
    "input_tensor = np.random.randn(1, 10).astype(np.float32)\n",
    "\n",
    "# 获取模型的输入名\n",
    "input_name = session.get_inputs()[0].name\n",
    "\n",
    "# 运行推理\n",
    "output = session.run(None, {input_name: input_tensor})\n",
    "\n",
    "print(\"模型输出：\", output)"
   ]
  },
  {
   "cell_type": "code",
   "execution_count": 4,
   "metadata": {},
   "outputs": [
    {
     "name": "stdout",
     "output_type": "stream",
     "text": [
      "优化后的输出： [array([[-0.24342236,  0.07350808]], dtype=float32)]\n"
     ]
    }
   ],
   "source": [
    "import onnxruntime as ort\n",
    "from onnxruntime import GraphOptimizationLevel\n",
    "from onnxruntime import SessionOptions\n",
    "\n",
    "# 创建会话选项\n",
    "so = SessionOptions()\n",
    "so.graph_optimization_level = GraphOptimizationLevel.ORT_ENABLE_EXTENDED\n",
    "\n",
    "# 加载优化后的ONNX模型\n",
    "session = ort.InferenceSession(\"simple_model.onnx\", sess_options=so)\n",
    "\n",
    "# 进行推理\n",
    "output = session.run(None, {input_name: input_tensor})\n",
    "\n",
    "print(\"优化后的输出：\", output)"
   ]
  }
 ],
 "metadata": {
  "kernelspec": {
   "display_name": "vLLM",
   "language": "python",
   "name": "python3"
  },
  "language_info": {
   "codemirror_mode": {
    "name": "ipython",
    "version": 3
   },
   "file_extension": ".py",
   "mimetype": "text/x-python",
   "name": "python",
   "nbconvert_exporter": "python",
   "pygments_lexer": "ipython3",
   "version": "3.12.8"
  }
 },
 "nbformat": 4,
 "nbformat_minor": 2
}
